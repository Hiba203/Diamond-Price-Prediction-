{
 "cells": [
  {
   "cell_type": "code",
   "execution_count": 1,
   "id": "ebd12324",
   "metadata": {
    "slideshow": {
     "slide_type": "slide"
    }
   },
   "outputs": [],
   "source": [
    "# This Python 3 environment comes with many helpful analytics libraries installed\n",
    "# It is defined by the kaggle/python Docker image: https://github.com/kaggle/docker-python\n",
    "# For example, here's several helpful packages to load\n",
    "\n",
    "import numpy as np # linear algebra\n",
    "import pandas as pd # data processing, CSV file I/O (e.g. pd.read_csv)\n",
    "\n",
    "# Input data files are available in the read-only \"../input/\" directory\n",
    "# For example, running this (by clicking run or pressing Shift+Enter) will list all files under the input directory\n",
    "\n",
    "import os\n",
    "for dirname, _, filenames in os.walk('/kaggle/input'):\n",
    "    for filename in filenames:\n",
    "        print(os.path.join(dirname, filename))\n",
    "\n",
    "# You can write up to 20GB to the current directory (/kaggle/working/) that gets preserved as output when you create a version using \"Save & Run All\" \n",
    "# You can also write temporary files to /kaggle/temp/, but they won't be saved outside of the current session"
   ]
  },
  {
   "cell_type": "code",
   "execution_count": 46,
   "id": "019f4002",
   "metadata": {
    "slideshow": {
     "slide_type": "slide"
    }
   },
   "outputs": [],
   "source": [
    "import pandas as pd\n",
    "import numpy as np\n",
    "import matplotlib.pyplot as plt\n",
    "import seaborn as sns\n",
    "import warnings\n",
    "warnings.filterwarnings(\"ignore\")\n",
    "from sklearn.pipeline import Pipeline, make_pipeline\n",
    "from sklearn.linear_model import LinearRegression\n",
    "from sklearn.metrics import r2_score,mean_squared_error\n",
    "from sklearn.neighbors import KNeighborsRegressor\n",
    "from sklearn.tree import DecisionTreeRegressor\n",
    "from sklearn.ensemble import RandomForestRegressor, GradientBoostingRegressor, AdaBoostRegressor, ExtraTreesRegressor\n",
    "from xgboost import XGBRegressor\n",
    "from sklearn import metrics\n",
    "from sklearn.preprocessing import StandardScaler\n",
    "from sklearn.model_selection import cross_val_score"
   ]
  },
  {
   "cell_type": "code",
   "execution_count": 3,
   "id": "a1a64cbb",
   "metadata": {
    "slideshow": {
     "slide_type": "slide"
    }
   },
   "outputs": [],
   "source": [
    "train=pd.read_csv(\"train.csv\")\n",
    "test=pd.read_csv(\"test.csv\")"
   ]
  },
  {
   "cell_type": "code",
   "execution_count": 4,
   "id": "f9e66307",
   "metadata": {
    "slideshow": {
     "slide_type": "slide"
    }
   },
   "outputs": [
    {
     "data": {
      "text/plain": [
       "(43152, 11)"
      ]
     },
     "execution_count": 4,
     "metadata": {},
     "output_type": "execute_result"
    }
   ],
   "source": [
    "train.shape"
   ]
  },
  {
   "cell_type": "code",
   "execution_count": 5,
   "id": "25b39d21",
   "metadata": {
    "slideshow": {
     "slide_type": "slide"
    }
   },
   "outputs": [
    {
     "data": {
      "text/plain": [
       "(10788, 10)"
      ]
     },
     "execution_count": 5,
     "metadata": {},
     "output_type": "execute_result"
    }
   ],
   "source": [
    "test.shape"
   ]
  },
  {
   "cell_type": "code",
   "execution_count": 6,
   "id": "8e462499",
   "metadata": {
    "slideshow": {
     "slide_type": "slide"
    }
   },
   "outputs": [
    {
     "name": "stdout",
     "output_type": "stream",
     "text": [
      "<class 'pandas.core.frame.DataFrame'>\n",
      "RangeIndex: 43152 entries, 0 to 43151\n",
      "Data columns (total 11 columns):\n",
      " #   Column   Non-Null Count  Dtype  \n",
      "---  ------   --------------  -----  \n",
      " 0   Id       43152 non-null  int64  \n",
      " 1   carat    43152 non-null  float64\n",
      " 2   cut      43152 non-null  object \n",
      " 3   color    43152 non-null  object \n",
      " 4   clarity  43152 non-null  object \n",
      " 5   depth    43152 non-null  float64\n",
      " 6   table    43152 non-null  float64\n",
      " 7   price    43152 non-null  int64  \n",
      " 8   x        43152 non-null  float64\n",
      " 9   y        43152 non-null  float64\n",
      " 10  z        43152 non-null  float64\n",
      "dtypes: float64(6), int64(2), object(3)\n",
      "memory usage: 3.6+ MB\n"
     ]
    }
   ],
   "source": [
    "train.info()"
   ]
  },
  {
   "cell_type": "code",
   "execution_count": 7,
   "id": "1c5b19c0",
   "metadata": {
    "slideshow": {
     "slide_type": "slide"
    }
   },
   "outputs": [
    {
     "data": {
      "text/plain": [
       "Id         0\n",
       "carat      0\n",
       "cut        0\n",
       "color      0\n",
       "clarity    0\n",
       "depth      0\n",
       "table      0\n",
       "price      0\n",
       "x          0\n",
       "y          0\n",
       "z          0\n",
       "dtype: int64"
      ]
     },
     "execution_count": 7,
     "metadata": {},
     "output_type": "execute_result"
    }
   ],
   "source": [
    "train.isna().sum()"
   ]
  },
  {
   "cell_type": "markdown",
   "id": "d981242a",
   "metadata": {
    "slideshow": {
     "slide_type": "subslide"
    }
   },
   "source": [
    "There is no missing data"
   ]
  },
  {
   "cell_type": "code",
   "execution_count": 8,
   "id": "34836c8b",
   "metadata": {
    "slideshow": {
     "slide_type": "slide"
    }
   },
   "outputs": [
    {
     "data": {
      "text/plain": [
       "(43135, 11)"
      ]
     },
     "execution_count": 8,
     "metadata": {},
     "output_type": "execute_result"
    }
   ],
   "source": [
    "train = train.drop(train[train[\"x\"]==0].index)\n",
    "train = train.drop(train[train[\"y\"]==0].index)\n",
    "train = train.drop(train[train[\"z\"]==0].index)\n",
    "train.shape"
   ]
  },
  {
   "cell_type": "code",
   "execution_count": 9,
   "id": "0f6be0fc",
   "metadata": {
    "slideshow": {
     "slide_type": "slide"
    }
   },
   "outputs": [
    {
     "data": {
      "text/html": [
       "<div>\n",
       "<style scoped>\n",
       "    .dataframe tbody tr th:only-of-type {\n",
       "        vertical-align: middle;\n",
       "    }\n",
       "\n",
       "    .dataframe tbody tr th {\n",
       "        vertical-align: top;\n",
       "    }\n",
       "\n",
       "    .dataframe thead th {\n",
       "        text-align: right;\n",
       "    }\n",
       "</style>\n",
       "<table border=\"1\" class=\"dataframe\">\n",
       "  <thead>\n",
       "    <tr style=\"text-align: right;\">\n",
       "      <th></th>\n",
       "      <th>Id</th>\n",
       "      <th>carat</th>\n",
       "      <th>depth</th>\n",
       "      <th>table</th>\n",
       "      <th>price</th>\n",
       "      <th>x</th>\n",
       "      <th>y</th>\n",
       "      <th>z</th>\n",
       "    </tr>\n",
       "  </thead>\n",
       "  <tbody>\n",
       "    <tr>\n",
       "      <th>count</th>\n",
       "      <td>43135.000000</td>\n",
       "      <td>43135.000000</td>\n",
       "      <td>43135.000000</td>\n",
       "      <td>43135.000000</td>\n",
       "      <td>43135.000000</td>\n",
       "      <td>43135.000000</td>\n",
       "      <td>43135.000000</td>\n",
       "      <td>43135.000000</td>\n",
       "    </tr>\n",
       "    <tr>\n",
       "      <th>mean</th>\n",
       "      <td>21577.642796</td>\n",
       "      <td>0.797578</td>\n",
       "      <td>61.747386</td>\n",
       "      <td>57.457925</td>\n",
       "      <td>3927.668691</td>\n",
       "      <td>5.731757</td>\n",
       "      <td>5.735070</td>\n",
       "      <td>3.539962</td>\n",
       "    </tr>\n",
       "    <tr>\n",
       "      <th>std</th>\n",
       "      <td>12456.553482</td>\n",
       "      <td>0.473325</td>\n",
       "      <td>1.435091</td>\n",
       "      <td>2.233401</td>\n",
       "      <td>3983.324154</td>\n",
       "      <td>1.119336</td>\n",
       "      <td>1.147272</td>\n",
       "      <td>0.704884</td>\n",
       "    </tr>\n",
       "    <tr>\n",
       "      <th>min</th>\n",
       "      <td>1.000000</td>\n",
       "      <td>0.200000</td>\n",
       "      <td>43.000000</td>\n",
       "      <td>43.000000</td>\n",
       "      <td>326.000000</td>\n",
       "      <td>3.730000</td>\n",
       "      <td>3.680000</td>\n",
       "      <td>1.070000</td>\n",
       "    </tr>\n",
       "    <tr>\n",
       "      <th>25%</th>\n",
       "      <td>10789.500000</td>\n",
       "      <td>0.400000</td>\n",
       "      <td>61.000000</td>\n",
       "      <td>56.000000</td>\n",
       "      <td>947.000000</td>\n",
       "      <td>4.710000</td>\n",
       "      <td>4.720000</td>\n",
       "      <td>2.910000</td>\n",
       "    </tr>\n",
       "    <tr>\n",
       "      <th>50%</th>\n",
       "      <td>21578.000000</td>\n",
       "      <td>0.700000</td>\n",
       "      <td>61.800000</td>\n",
       "      <td>57.000000</td>\n",
       "      <td>2400.000000</td>\n",
       "      <td>5.700000</td>\n",
       "      <td>5.710000</td>\n",
       "      <td>3.530000</td>\n",
       "    </tr>\n",
       "    <tr>\n",
       "      <th>75%</th>\n",
       "      <td>32364.500000</td>\n",
       "      <td>1.040000</td>\n",
       "      <td>62.500000</td>\n",
       "      <td>59.000000</td>\n",
       "      <td>5311.000000</td>\n",
       "      <td>6.540000</td>\n",
       "      <td>6.540000</td>\n",
       "      <td>4.040000</td>\n",
       "    </tr>\n",
       "    <tr>\n",
       "      <th>max</th>\n",
       "      <td>43152.000000</td>\n",
       "      <td>5.010000</td>\n",
       "      <td>79.000000</td>\n",
       "      <td>95.000000</td>\n",
       "      <td>18823.000000</td>\n",
       "      <td>10.740000</td>\n",
       "      <td>58.900000</td>\n",
       "      <td>31.800000</td>\n",
       "    </tr>\n",
       "  </tbody>\n",
       "</table>\n",
       "</div>"
      ],
      "text/plain": [
       "                 Id         carat         depth         table         price  \\\n",
       "count  43135.000000  43135.000000  43135.000000  43135.000000  43135.000000   \n",
       "mean   21577.642796      0.797578     61.747386     57.457925   3927.668691   \n",
       "std    12456.553482      0.473325      1.435091      2.233401   3983.324154   \n",
       "min        1.000000      0.200000     43.000000     43.000000    326.000000   \n",
       "25%    10789.500000      0.400000     61.000000     56.000000    947.000000   \n",
       "50%    21578.000000      0.700000     61.800000     57.000000   2400.000000   \n",
       "75%    32364.500000      1.040000     62.500000     59.000000   5311.000000   \n",
       "max    43152.000000      5.010000     79.000000     95.000000  18823.000000   \n",
       "\n",
       "                  x             y             z  \n",
       "count  43135.000000  43135.000000  43135.000000  \n",
       "mean       5.731757      5.735070      3.539962  \n",
       "std        1.119336      1.147272      0.704884  \n",
       "min        3.730000      3.680000      1.070000  \n",
       "25%        4.710000      4.720000      2.910000  \n",
       "50%        5.700000      5.710000      3.530000  \n",
       "75%        6.540000      6.540000      4.040000  \n",
       "max       10.740000     58.900000     31.800000  "
      ]
     },
     "execution_count": 9,
     "metadata": {},
     "output_type": "execute_result"
    }
   ],
   "source": [
    "train.describe()"
   ]
  },
  {
   "cell_type": "markdown",
   "id": "3db485a1",
   "metadata": {
    "slideshow": {
     "slide_type": "subslide"
    }
   },
   "source": [
    "All data seems good"
   ]
  },
  {
   "cell_type": "markdown",
   "id": "6be9d169",
   "metadata": {
    "slideshow": {
     "slide_type": "slide"
    }
   },
   "source": [
    "# Data Visualization"
   ]
  },
  {
   "cell_type": "code",
   "execution_count": 10,
   "id": "b9743fca",
   "metadata": {
    "slideshow": {
     "slide_type": "slide"
    }
   },
   "outputs": [
    {
     "data": {
      "image/png": "[encoded data removed]",
      "text/plain": [
       "<Figure size 432x288 with 1 Axes>"
      ]
     },
     "metadata": {
      "needs_background": "light"
     },
     "output_type": "display_data"
    }
   ],
   "source": [
    "sns.distplot(train[\"price\"])\n",
    "plt.show()"
   ]
  },
  {
   "cell_type": "markdown",
   "id": "d3d9c039",
   "metadata": {
    "slideshow": {
     "slide_type": "subslide"
    }
   },
   "source": [
    "The distribution shows that price is skewed to the right since mean > median"
   ]
  },
  {
   "cell_type": "code",
   "execution_count": 11,
   "id": "d7a75a7b",
   "metadata": {
    "slideshow": {
     "slide_type": "slide"
    }
   },
   "outputs": [],
   "source": [
    "# using Log to normalize price\n",
    "train[\"price\"]=np.log(train[\"price\"])"
   ]
  },
  {
   "cell_type": "code",
   "execution_count": 12,
   "id": "be65172a",
   "metadata": {
    "slideshow": {
     "slide_type": "subslide"
    }
   },
   "outputs": [
    {
     "data": {
      "image/png": "[encoded data removed]",
      "text/plain": [
       "<Figure size 432x288 with 1 Axes>"
      ]
     },
     "metadata": {
      "needs_background": "light"
     },
     "output_type": "display_data"
    }
   ],
   "source": [
    "sns.distplot(train[\"price\"])\n",
    "plt.show()"
   ]
  },
  {
   "cell_type": "code",
   "execution_count": 13,
   "id": "98dba45e",
   "metadata": {
    "slideshow": {
     "slide_type": "slide"
    }
   },
   "outputs": [
    {
     "data": {
      "text/plain": [
       "<AxesSubplot:xlabel='carat', ylabel='Density'>"
      ]
     },
     "execution_count": 13,
     "metadata": {},
     "output_type": "execute_result"
    },
    {
     "data": {
      "image/png": "[encoded data removed]",
      "text/plain": [
       "<Figure size 432x288 with 1 Axes>"
      ]
     },
     "metadata": {
      "needs_background": "light"
     },
     "output_type": "display_data"
    }
   ],
   "source": [
    "# carat column\n",
    "sns.distplot(train[\"carat\"])"
   ]
  },
  {
   "cell_type": "markdown",
   "id": "3b3091d8",
   "metadata": {
    "slideshow": {
     "slide_type": "subslide"
    }
   },
   "source": [
    "carat is skwed to the right "
   ]
  },
  {
   "cell_type": "code",
   "execution_count": 14,
   "id": "225323a7",
   "metadata": {
    "slideshow": {
     "slide_type": "slide"
    }
   },
   "outputs": [],
   "source": [
    "# using Log to normalize carat\n",
    "train[\"carat\"]=np.log(train[\"carat\"])"
   ]
  },
  {
   "cell_type": "code",
   "execution_count": 15,
   "id": "dfecd92e",
   "metadata": {
    "slideshow": {
     "slide_type": "subslide"
    }
   },
   "outputs": [
    {
     "data": {
      "text/plain": [
       "<AxesSubplot:xlabel='carat', ylabel='Density'>"
      ]
     },
     "execution_count": 15,
     "metadata": {},
     "output_type": "execute_result"
    },
    {
     "data": {
      "image/png": "[encoded data removed]",
      "text/plain": [
       "<Figure size 432x288 with 1 Axes>"
      ]
     },
     "metadata": {
      "needs_background": "light"
     },
     "output_type": "display_data"
    }
   ],
   "source": [
    "sns.distplot(train[\"carat\"])"
   ]
  },
  {
   "cell_type": "code",
   "execution_count": 16,
   "id": "ef3bea5b",
   "metadata": {
    "slideshow": {
     "slide_type": "slide"
    }
   },
   "outputs": [
    {
     "data": {
      "text/plain": [
       "<seaborn.axisgrid.FacetGrid at 0x2144d9d7d90>"
      ]
     },
     "execution_count": 16,
     "metadata": {},
     "output_type": "execute_result"
    },
    {
     "data": {
      "image/png": "[encoded data removed]",
      "text/plain": [
       "<Figure size 360x360 with 1 Axes>"
      ]
     },
     "metadata": {
      "needs_background": "light"
     },
     "output_type": "display_data"
    }
   ],
   "source": [
    "sns.lmplot(x=\"carat\",y=\"price\",data=train)"
   ]
  },
  {
   "cell_type": "markdown",
   "id": "5eee9bb9",
   "metadata": {
    "slideshow": {
     "slide_type": "subslide"
    }
   },
   "source": [
    "The graph shows that there is strong relationship between carat and price"
   ]
  },
  {
   "cell_type": "code",
   "execution_count": 17,
   "id": "b33a4f22",
   "metadata": {
    "slideshow": {
     "slide_type": "slide"
    }
   },
   "outputs": [
    {
     "data": {
      "text/plain": [
       "array(['Ideal', 'Premium', 'Very Good', 'Fair', 'Good'], dtype=object)"
      ]
     },
     "execution_count": 17,
     "metadata": {},
     "output_type": "execute_result"
    }
   ],
   "source": [
    "train.cut.unique()"
   ]
  },
  {
   "cell_type": "code",
   "execution_count": 18,
   "id": "d27a4253",
   "metadata": {
    "slideshow": {
     "slide_type": "subslide"
    }
   },
   "outputs": [
    {
     "data": {
      "image/png": "[encoded data removed]",
      "text/plain": [
       "<Figure size 432x288 with 1 Axes>"
      ]
     },
     "metadata": {
      "needs_background": "light"
     },
     "output_type": "display_data"
    }
   ],
   "source": [
    "# cut column\n",
    "sns.countplot(x=\"cut\",data=train)\n",
    "plt.show()"
   ]
  },
  {
   "cell_type": "markdown",
   "id": "47a5939d",
   "metadata": {
    "slideshow": {
     "slide_type": "subslide"
    }
   },
   "source": [
    "The graph shows that Ideal has maximum count values, and Fair has the lowest count"
   ]
  },
  {
   "cell_type": "code",
   "execution_count": 19,
   "id": "522ddb3a",
   "metadata": {
    "slideshow": {
     "slide_type": "slide"
    }
   },
   "outputs": [
    {
     "data": {
      "image/png": "[encoded data removed]",
      "text/plain": [
       "<Figure size 432x288 with 1 Axes>"
      ]
     },
     "metadata": {
      "needs_background": "light"
     },
     "output_type": "display_data"
    }
   ],
   "source": [
    "# cut column with the target\n",
    "sns.boxplot(x=\"cut\",y=\"price\",data=train)\n",
    "plt.show()"
   ]
  },
  {
   "cell_type": "markdown",
   "id": "5b91cbb0",
   "metadata": {},
   "source": [
    "There is no relationship between cut and price, and median price is around 8.5"
   ]
  },
  {
   "cell_type": "code",
   "execution_count": 20,
   "id": "0d750730",
   "metadata": {},
   "outputs": [
    {
     "data": {
      "text/plain": [
       "array(['I', 'G', 'F', 'H', 'D', 'E', 'J'], dtype=object)"
      ]
     },
     "execution_count": 20,
     "metadata": {},
     "output_type": "execute_result"
    }
   ],
   "source": [
    "train.color.unique()"
   ]
  },
  {
   "cell_type": "code",
   "execution_count": 21,
   "id": "d40f9844",
   "metadata": {},
   "outputs": [
    {
     "data": {
      "image/png": "[encoded data removed]",
      "text/plain": [
       "<Figure size 432x288 with 1 Axes>"
      ]
     },
     "metadata": {
      "needs_background": "light"
     },
     "output_type": "display_data"
    }
   ],
   "source": [
    "# color column \n",
    "sns.countplot(x=\"color\",data=train)\n",
    "plt.show()"
   ]
  },
  {
   "cell_type": "markdown",
   "id": "f7130cc6",
   "metadata": {},
   "source": [
    "The graph shows that G color has maximum count values, and J color has the lowest count"
   ]
  },
  {
   "cell_type": "code",
   "execution_count": 22,
   "id": "84ffc033",
   "metadata": {},
   "outputs": [
    {
     "data": {
      "image/png": "[encoded data removed]",
      "text/plain": [
       "<Figure size 432x288 with 1 Axes>"
      ]
     },
     "metadata": {
      "needs_background": "light"
     },
     "output_type": "display_data"
    }
   ],
   "source": [
    "# color column with the target\n",
    "sns.boxplot(x=\"color\",y=\"price\",data=train)\n",
    "plt.show()"
   ]
  },
  {
   "cell_type": "markdown",
   "id": "41c730ab",
   "metadata": {},
   "source": [
    "There is no relationship between color and price, and median price is around 8.5"
   ]
  },
  {
   "cell_type": "code",
   "execution_count": 23,
   "id": "72d2be91",
   "metadata": {},
   "outputs": [
    {
     "data": {
      "text/plain": [
       "array(['SI2', 'VVS2', 'VS2', 'IF', 'VS1', 'SI1', 'VVS1', 'I1'],\n",
       "      dtype=object)"
      ]
     },
     "execution_count": 23,
     "metadata": {},
     "output_type": "execute_result"
    }
   ],
   "source": [
    "train.clarity.unique()"
   ]
  },
  {
   "cell_type": "code",
   "execution_count": 24,
   "id": "677fc7b9",
   "metadata": {},
   "outputs": [
    {
     "data": {
      "image/png": "[encoded data removed]",
      "text/plain": [
       "<Figure size 432x288 with 1 Axes>"
      ]
     },
     "metadata": {
      "needs_background": "light"
     },
     "output_type": "display_data"
    }
   ],
   "source": [
    "#clarity column\n",
    "sns.countplot(x=\"clarity\",data=train)\n",
    "plt.show()"
   ]
  },
  {
   "cell_type": "markdown",
   "id": "fb67e746",
   "metadata": {},
   "source": [
    "The graph shows that S1  has maximum count values, and IF,I1 and have the lowest count"
   ]
  },
  {
   "cell_type": "code",
   "execution_count": 25,
   "id": "f191e47a",
   "metadata": {},
   "outputs": [
    {
     "data": {
      "image/png": "[encoded data removed]",
      "text/plain": [
       "<Figure size 432x288 with 1 Axes>"
      ]
     },
     "metadata": {
      "needs_background": "light"
     },
     "output_type": "display_data"
    }
   ],
   "source": [
    "#clarity column with the target\n",
    "sns.boxplot(x=\"clarity\",y=\"price\",data=train)\n",
    "plt.show()"
   ]
  },
  {
   "cell_type": "markdown",
   "id": "9fa22437",
   "metadata": {},
   "source": [
    "IF,WS1 have the lowest median price, and median price is around 8.0"
   ]
  },
  {
   "cell_type": "code",
   "execution_count": 26,
   "id": "386c7542",
   "metadata": {},
   "outputs": [
    {
     "data": {
      "image/png": "[encoded data removed]",
      "text/plain": [
       "<Figure size 432x288 with 1 Axes>"
      ]
     },
     "metadata": {
      "needs_background": "light"
     },
     "output_type": "display_data"
    }
   ],
   "source": [
    "#depth column\n",
    "sns.distplot(train[\"depth\"])\n",
    "plt.show()"
   ]
  },
  {
   "cell_type": "markdown",
   "id": "2a06896c",
   "metadata": {},
   "source": [
    "The graph shows depth is normally distribution with mean of 61.8, and also it shows an outliers"
   ]
  },
  {
   "cell_type": "code",
   "execution_count": 27,
   "id": "3125c4aa",
   "metadata": {},
   "outputs": [
    {
     "data": {
      "image/png": "[encoded data removed]",
      "text/plain": [
       "<Figure size 360x360 with 1 Axes>"
      ]
     },
     "metadata": {
      "needs_background": "light"
     },
     "output_type": "display_data"
    }
   ],
   "source": [
    "#depth column with target\n",
    "sns.lmplot(x=\"depth\",y=\"price\",data=train)\n",
    "plt.show()"
   ]
  },
  {
   "cell_type": "markdown",
   "id": "a50ec4cd",
   "metadata": {},
   "source": [
    "There is no relationship between depth and price"
   ]
  },
  {
   "cell_type": "code",
   "execution_count": 28,
   "id": "0e380bea",
   "metadata": {},
   "outputs": [
    {
     "data": {
      "image/png": "[encoded data removed]",
      "text/plain": [
       "<Figure size 432x288 with 1 Axes>"
      ]
     },
     "metadata": {
      "needs_background": "light"
     },
     "output_type": "display_data"
    }
   ],
   "source": [
    "# table column\n",
    "sns.distplot(train[\"table\"])\n",
    "plt.show()"
   ]
  },
  {
   "cell_type": "markdown",
   "id": "1a59a5a5",
   "metadata": {},
   "source": [
    "The graph shows table is normally distribution with mean of 57.5, and also it shows an outliers"
   ]
  },
  {
   "cell_type": "code",
   "execution_count": 29,
   "id": "234c1f3f",
   "metadata": {},
   "outputs": [
    {
     "data": {
      "image/png": "[encoded data removed]",
      "text/plain": [
       "<Figure size 360x360 with 1 Axes>"
      ]
     },
     "metadata": {
      "needs_background": "light"
     },
     "output_type": "display_data"
    }
   ],
   "source": [
    "# table column with target\n",
    "sns.lmplot(x=\"table\",y=\"price\",data=train)\n",
    "plt.show()"
   ]
  },
  {
   "cell_type": "markdown",
   "id": "1909969c",
   "metadata": {},
   "source": [
    "The graph shows a linear relationship between table and price"
   ]
  },
  {
   "cell_type": "code",
   "execution_count": 30,
   "id": "cf01d69d",
   "metadata": {},
   "outputs": [
    {
     "data": {
      "image/png": "[encoded data removed]",
      "text/plain": [
       "<Figure size 432x288 with 1 Axes>"
      ]
     },
     "metadata": {
      "needs_background": "light"
     },
     "output_type": "display_data"
    }
   ],
   "source": [
    "#x column \n",
    "sns.distplot(train[\"x\"])\n",
    "plt.show()"
   ]
  },
  {
   "cell_type": "markdown",
   "id": "10b5565c",
   "metadata": {},
   "source": [
    "Graph shows that x column has outliers"
   ]
  },
  {
   "cell_type": "code",
   "execution_count": 31,
   "id": "9f27f17c",
   "metadata": {},
   "outputs": [
    {
     "data": {
      "image/png": "[encoded data removed]",
      "text/plain": [
       "<Figure size 360x360 with 1 Axes>"
      ]
     },
     "metadata": {
      "needs_background": "light"
     },
     "output_type": "display_data"
    }
   ],
   "source": [
    "#x column with target\n",
    "sns.lmplot(x=\"x\",y=\"price\",data=train)\n",
    "plt.show()"
   ]
  },
  {
   "cell_type": "markdown",
   "id": "66118943",
   "metadata": {},
   "source": [
    "The graph shows a linear relationship between x and price"
   ]
  },
  {
   "cell_type": "code",
   "execution_count": 32,
   "id": "e49f6df4",
   "metadata": {},
   "outputs": [
    {
     "data": {
      "image/png": "[encoded data removed]",
      "text/plain": [
       "<Figure size 432x288 with 1 Axes>"
      ]
     },
     "metadata": {
      "needs_background": "light"
     },
     "output_type": "display_data"
    }
   ],
   "source": [
    "#y column \n",
    "sns.distplot(train[\"y\"])\n",
    "plt.show()"
   ]
  },
  {
   "cell_type": "markdown",
   "id": "e732f06a",
   "metadata": {},
   "source": [
    "Graph shows that y column has outliers"
   ]
  },
  {
   "cell_type": "code",
   "execution_count": 33,
   "id": "71476795",
   "metadata": {},
   "outputs": [
    {
     "data": {
      "image/png": "[encoded data removed]",
      "text/plain": [
       "<Figure size 360x360 with 1 Axes>"
      ]
     },
     "metadata": {
      "needs_background": "light"
     },
     "output_type": "display_data"
    }
   ],
   "source": [
    "#y column with target\n",
    "sns.lmplot(x=\"y\",y=\"price\",data=train)\n",
    "plt.show()"
   ]
  },
  {
   "cell_type": "markdown",
   "id": "0525b9fd",
   "metadata": {},
   "source": [
    "The graph shows a linear relationship between y and price"
   ]
  },
  {
   "cell_type": "code",
   "execution_count": 34,
   "id": "f874ccba",
   "metadata": {},
   "outputs": [
    {
     "data": {
      "image/png": "[encoded data removed]",
      "text/plain": [
       "<Figure size 432x288 with 1 Axes>"
      ]
     },
     "metadata": {
      "needs_background": "light"
     },
     "output_type": "display_data"
    }
   ],
   "source": [
    "#z column \n",
    "sns.distplot(train[\"z\"])\n",
    "plt.show()"
   ]
  },
  {
   "cell_type": "markdown",
   "id": "b9314572",
   "metadata": {},
   "source": [
    "Graph shows that z column has outliers"
   ]
  },
  {
   "cell_type": "code",
   "execution_count": 35,
   "id": "e7a46214",
   "metadata": {},
   "outputs": [
    {
     "data": {
      "image/png": "[encoded data removed]",
      "text/plain": [
       "<Figure size 360x360 with 1 Axes>"
      ]
     },
     "metadata": {
      "needs_background": "light"
     },
     "output_type": "display_data"
    }
   ],
   "source": [
    "#z column with target\n",
    "sns.lmplot(x=\"z\",y=\"price\",data=train)\n",
    "plt.show()"
   ]
  },
  {
   "cell_type": "markdown",
   "id": "b347722f",
   "metadata": {},
   "source": [
    "The graph shows a linear relationship between z and price"
   ]
  },
  {
   "cell_type": "markdown",
   "id": "a0fa3e16",
   "metadata": {},
   "source": [
    "# Dropping The Outliers"
   ]
  },
  {
   "cell_type": "code",
   "execution_count": 36,
   "id": "a099df58",
   "metadata": {},
   "outputs": [
    {
     "data": {
      "text/plain": [
       "(43123, 11)"
      ]
     },
     "execution_count": 36,
     "metadata": {},
     "output_type": "execute_result"
    }
   ],
   "source": [
    "#Dropping the outliers. \n",
    "train = train[(train[\"depth\"]<75)&(train[\"depth\"]>45)]\n",
    "train = train[(train[\"table\"]<80)&(train[\"table\"]>40)]\n",
    "train = train[(train[\"x\"]<30)]\n",
    "train = train[(train[\"y\"]<30)]\n",
    "train = train[(train[\"z\"]<30)&(train[\"z\"]>2)]\n",
    "train.shape"
   ]
  },
  {
   "cell_type": "markdown",
   "id": "cb162c13",
   "metadata": {},
   "source": [
    "# Feature Engineering"
   ]
  },
  {
   "cell_type": "code",
   "execution_count": 37,
   "id": "b54bf7bf",
   "metadata": {},
   "outputs": [
    {
     "data": {
      "text/html": [
       "<div>\n",
       "<style scoped>\n",
       "    .dataframe tbody tr th:only-of-type {\n",
       "        vertical-align: middle;\n",
       "    }\n",
       "\n",
       "    .dataframe tbody tr th {\n",
       "        vertical-align: top;\n",
       "    }\n",
       "\n",
       "    .dataframe thead th {\n",
       "        text-align: right;\n",
       "    }\n",
       "</style>\n",
       "<table border=\"1\" class=\"dataframe\">\n",
       "  <thead>\n",
       "    <tr style=\"text-align: right;\">\n",
       "      <th></th>\n",
       "      <th>Id</th>\n",
       "      <th>carat</th>\n",
       "      <th>cut</th>\n",
       "      <th>color</th>\n",
       "      <th>clarity</th>\n",
       "      <th>depth</th>\n",
       "      <th>table</th>\n",
       "      <th>price</th>\n",
       "      <th>x</th>\n",
       "      <th>y</th>\n",
       "      <th>z</th>\n",
       "    </tr>\n",
       "  </thead>\n",
       "  <tbody>\n",
       "    <tr>\n",
       "      <th>0</th>\n",
       "      <td>1</td>\n",
       "      <td>0.058269</td>\n",
       "      <td>5</td>\n",
       "      <td>I</td>\n",
       "      <td>SI2</td>\n",
       "      <td>61.8</td>\n",
       "      <td>57.0</td>\n",
       "      <td>8.359369</td>\n",
       "      <td>6.57</td>\n",
       "      <td>6.60</td>\n",
       "      <td>4.07</td>\n",
       "    </tr>\n",
       "    <tr>\n",
       "      <th>1</th>\n",
       "      <td>2</td>\n",
       "      <td>0.412110</td>\n",
       "      <td>4</td>\n",
       "      <td>G</td>\n",
       "      <td>VVS2</td>\n",
       "      <td>60.9</td>\n",
       "      <td>58.0</td>\n",
       "      <td>9.626679</td>\n",
       "      <td>7.38</td>\n",
       "      <td>7.42</td>\n",
       "      <td>4.51</td>\n",
       "    </tr>\n",
       "    <tr>\n",
       "      <th>2</th>\n",
       "      <td>3</td>\n",
       "      <td>-1.139434</td>\n",
       "      <td>5</td>\n",
       "      <td>F</td>\n",
       "      <td>VS2</td>\n",
       "      <td>61.3</td>\n",
       "      <td>56.0</td>\n",
       "      <td>6.719013</td>\n",
       "      <td>4.43</td>\n",
       "      <td>4.41</td>\n",
       "      <td>2.71</td>\n",
       "    </tr>\n",
       "    <tr>\n",
       "      <th>3</th>\n",
       "      <td>4</td>\n",
       "      <td>-0.634878</td>\n",
       "      <td>5</td>\n",
       "      <td>G</td>\n",
       "      <td>VS2</td>\n",
       "      <td>61.2</td>\n",
       "      <td>56.0</td>\n",
       "      <td>7.363280</td>\n",
       "      <td>5.19</td>\n",
       "      <td>5.22</td>\n",
       "      <td>3.19</td>\n",
       "    </tr>\n",
       "    <tr>\n",
       "      <th>4</th>\n",
       "      <td>5</td>\n",
       "      <td>-0.356675</td>\n",
       "      <td>4</td>\n",
       "      <td>H</td>\n",
       "      <td>VVS2</td>\n",
       "      <td>61.0</td>\n",
       "      <td>57.0</td>\n",
       "      <td>7.861727</td>\n",
       "      <td>5.76</td>\n",
       "      <td>5.72</td>\n",
       "      <td>3.50</td>\n",
       "    </tr>\n",
       "  </tbody>\n",
       "</table>\n",
       "</div>"
      ],
      "text/plain": [
       "   Id     carat  cut color clarity  depth  table     price     x     y     z\n",
       "0   1  0.058269    5     I     SI2   61.8   57.0  8.359369  6.57  6.60  4.07\n",
       "1   2  0.412110    4     G    VVS2   60.9   58.0  9.626679  7.38  7.42  4.51\n",
       "2   3 -1.139434    5     F     VS2   61.3   56.0  6.719013  4.43  4.41  2.71\n",
       "3   4 -0.634878    5     G     VS2   61.2   56.0  7.363280  5.19  5.22  3.19\n",
       "4   5 -0.356675    4     H    VVS2   61.0   57.0  7.861727  5.76  5.72  3.50"
      ]
     },
     "execution_count": 37,
     "metadata": {},
     "output_type": "execute_result"
    }
   ],
   "source": [
    "train.cut.replace({\"Ideal\":5, \"Premium\":4, \"Good\":2, \"Very Good\":3, \"Fair\":1}, inplace=True)\n",
    "train.head()"
   ]
  },
  {
   "cell_type": "code",
   "execution_count": 38,
   "id": "38df1a83",
   "metadata": {},
   "outputs": [
    {
     "data": {
      "text/html": [
       "<div>\n",
       "<style scoped>\n",
       "    .dataframe tbody tr th:only-of-type {\n",
       "        vertical-align: middle;\n",
       "    }\n",
       "\n",
       "    .dataframe tbody tr th {\n",
       "        vertical-align: top;\n",
       "    }\n",
       "\n",
       "    .dataframe thead th {\n",
       "        text-align: right;\n",
       "    }\n",
       "</style>\n",
       "<table border=\"1\" class=\"dataframe\">\n",
       "  <thead>\n",
       "    <tr style=\"text-align: right;\">\n",
       "      <th></th>\n",
       "      <th>Id</th>\n",
       "      <th>carat</th>\n",
       "      <th>cut</th>\n",
       "      <th>color</th>\n",
       "      <th>clarity</th>\n",
       "      <th>depth</th>\n",
       "      <th>table</th>\n",
       "      <th>price</th>\n",
       "      <th>x</th>\n",
       "      <th>y</th>\n",
       "      <th>z</th>\n",
       "    </tr>\n",
       "  </thead>\n",
       "  <tbody>\n",
       "    <tr>\n",
       "      <th>0</th>\n",
       "      <td>1</td>\n",
       "      <td>0.058269</td>\n",
       "      <td>5</td>\n",
       "      <td>6</td>\n",
       "      <td>SI2</td>\n",
       "      <td>61.8</td>\n",
       "      <td>57.0</td>\n",
       "      <td>8.359369</td>\n",
       "      <td>6.57</td>\n",
       "      <td>6.60</td>\n",
       "      <td>4.07</td>\n",
       "    </tr>\n",
       "    <tr>\n",
       "      <th>1</th>\n",
       "      <td>2</td>\n",
       "      <td>0.412110</td>\n",
       "      <td>4</td>\n",
       "      <td>4</td>\n",
       "      <td>VVS2</td>\n",
       "      <td>60.9</td>\n",
       "      <td>58.0</td>\n",
       "      <td>9.626679</td>\n",
       "      <td>7.38</td>\n",
       "      <td>7.42</td>\n",
       "      <td>4.51</td>\n",
       "    </tr>\n",
       "    <tr>\n",
       "      <th>2</th>\n",
       "      <td>3</td>\n",
       "      <td>-1.139434</td>\n",
       "      <td>5</td>\n",
       "      <td>3</td>\n",
       "      <td>VS2</td>\n",
       "      <td>61.3</td>\n",
       "      <td>56.0</td>\n",
       "      <td>6.719013</td>\n",
       "      <td>4.43</td>\n",
       "      <td>4.41</td>\n",
       "      <td>2.71</td>\n",
       "    </tr>\n",
       "    <tr>\n",
       "      <th>3</th>\n",
       "      <td>4</td>\n",
       "      <td>-0.634878</td>\n",
       "      <td>5</td>\n",
       "      <td>4</td>\n",
       "      <td>VS2</td>\n",
       "      <td>61.2</td>\n",
       "      <td>56.0</td>\n",
       "      <td>7.363280</td>\n",
       "      <td>5.19</td>\n",
       "      <td>5.22</td>\n",
       "      <td>3.19</td>\n",
       "    </tr>\n",
       "    <tr>\n",
       "      <th>4</th>\n",
       "      <td>5</td>\n",
       "      <td>-0.356675</td>\n",
       "      <td>4</td>\n",
       "      <td>5</td>\n",
       "      <td>VVS2</td>\n",
       "      <td>61.0</td>\n",
       "      <td>57.0</td>\n",
       "      <td>7.861727</td>\n",
       "      <td>5.76</td>\n",
       "      <td>5.72</td>\n",
       "      <td>3.50</td>\n",
       "    </tr>\n",
       "  </tbody>\n",
       "</table>\n",
       "</div>"
      ],
      "text/plain": [
       "   Id     carat  cut  color clarity  depth  table     price     x     y     z\n",
       "0   1  0.058269    5      6     SI2   61.8   57.0  8.359369  6.57  6.60  4.07\n",
       "1   2  0.412110    4      4    VVS2   60.9   58.0  9.626679  7.38  7.42  4.51\n",
       "2   3 -1.139434    5      3     VS2   61.3   56.0  6.719013  4.43  4.41  2.71\n",
       "3   4 -0.634878    5      4     VS2   61.2   56.0  7.363280  5.19  5.22  3.19\n",
       "4   5 -0.356675    4      5    VVS2   61.0   57.0  7.861727  5.76  5.72  3.50"
      ]
     },
     "execution_count": 38,
     "metadata": {},
     "output_type": "execute_result"
    }
   ],
   "source": [
    "train.color.replace({'E':2, 'I':6, 'J':7, 'H':5, 'F':3, 'G':4, 'D':1},inplace=True)\n",
    "train.head()"
   ]
  },
  {
   "cell_type": "code",
   "execution_count": 39,
   "id": "e4c92485",
   "metadata": {},
   "outputs": [
    {
     "data": {
      "text/html": [
       "<div>\n",
       "<style scoped>\n",
       "    .dataframe tbody tr th:only-of-type {\n",
       "        vertical-align: middle;\n",
       "    }\n",
       "\n",
       "    .dataframe tbody tr th {\n",
       "        vertical-align: top;\n",
       "    }\n",
       "\n",
       "    .dataframe thead th {\n",
       "        text-align: right;\n",
       "    }\n",
       "</style>\n",
       "<table border=\"1\" class=\"dataframe\">\n",
       "  <thead>\n",
       "    <tr style=\"text-align: right;\">\n",
       "      <th></th>\n",
       "      <th>Id</th>\n",
       "      <th>carat</th>\n",
       "      <th>cut</th>\n",
       "      <th>color</th>\n",
       "      <th>clarity</th>\n",
       "      <th>depth</th>\n",
       "      <th>table</th>\n",
       "      <th>price</th>\n",
       "      <th>x</th>\n",
       "      <th>y</th>\n",
       "      <th>z</th>\n",
       "    </tr>\n",
       "  </thead>\n",
       "  <tbody>\n",
       "    <tr>\n",
       "      <th>0</th>\n",
       "      <td>1</td>\n",
       "      <td>0.058269</td>\n",
       "      <td>5</td>\n",
       "      <td>6</td>\n",
       "      <td>1</td>\n",
       "      <td>61.8</td>\n",
       "      <td>57.0</td>\n",
       "      <td>8.359369</td>\n",
       "      <td>6.57</td>\n",
       "      <td>6.60</td>\n",
       "      <td>4.07</td>\n",
       "    </tr>\n",
       "    <tr>\n",
       "      <th>1</th>\n",
       "      <td>2</td>\n",
       "      <td>0.412110</td>\n",
       "      <td>4</td>\n",
       "      <td>4</td>\n",
       "      <td>5</td>\n",
       "      <td>60.9</td>\n",
       "      <td>58.0</td>\n",
       "      <td>9.626679</td>\n",
       "      <td>7.38</td>\n",
       "      <td>7.42</td>\n",
       "      <td>4.51</td>\n",
       "    </tr>\n",
       "    <tr>\n",
       "      <th>2</th>\n",
       "      <td>3</td>\n",
       "      <td>-1.139434</td>\n",
       "      <td>5</td>\n",
       "      <td>3</td>\n",
       "      <td>4</td>\n",
       "      <td>61.3</td>\n",
       "      <td>56.0</td>\n",
       "      <td>6.719013</td>\n",
       "      <td>4.43</td>\n",
       "      <td>4.41</td>\n",
       "      <td>2.71</td>\n",
       "    </tr>\n",
       "    <tr>\n",
       "      <th>3</th>\n",
       "      <td>4</td>\n",
       "      <td>-0.634878</td>\n",
       "      <td>5</td>\n",
       "      <td>4</td>\n",
       "      <td>4</td>\n",
       "      <td>61.2</td>\n",
       "      <td>56.0</td>\n",
       "      <td>7.363280</td>\n",
       "      <td>5.19</td>\n",
       "      <td>5.22</td>\n",
       "      <td>3.19</td>\n",
       "    </tr>\n",
       "    <tr>\n",
       "      <th>4</th>\n",
       "      <td>5</td>\n",
       "      <td>-0.356675</td>\n",
       "      <td>4</td>\n",
       "      <td>5</td>\n",
       "      <td>5</td>\n",
       "      <td>61.0</td>\n",
       "      <td>57.0</td>\n",
       "      <td>7.861727</td>\n",
       "      <td>5.76</td>\n",
       "      <td>5.72</td>\n",
       "      <td>3.50</td>\n",
       "    </tr>\n",
       "  </tbody>\n",
       "</table>\n",
       "</div>"
      ],
      "text/plain": [
       "   Id     carat  cut  color  clarity  depth  table     price     x     y     z\n",
       "0   1  0.058269    5      6        1   61.8   57.0  8.359369  6.57  6.60  4.07\n",
       "1   2  0.412110    4      4        5   60.9   58.0  9.626679  7.38  7.42  4.51\n",
       "2   3 -1.139434    5      3        4   61.3   56.0  6.719013  4.43  4.41  2.71\n",
       "3   4 -0.634878    5      4        4   61.2   56.0  7.363280  5.19  5.22  3.19\n",
       "4   5 -0.356675    4      5        5   61.0   57.0  7.861727  5.76  5.72  3.50"
      ]
     },
     "execution_count": 39,
     "metadata": {},
     "output_type": "execute_result"
    }
   ],
   "source": [
    "train.clarity.replace({'SI2':1, 'SI1':2, 'VS1':3, 'VS2':4, 'VVS2':5, 'VVS1':6, 'I1':7, 'IF':8},inplace=True)\n",
    "train.head()"
   ]
  },
  {
   "cell_type": "code",
   "execution_count": 40,
   "id": "9ed1f658",
   "metadata": {},
   "outputs": [
    {
     "data": {
      "text/html": [
       "<div>\n",
       "<style scoped>\n",
       "    .dataframe tbody tr th:only-of-type {\n",
       "        vertical-align: middle;\n",
       "    }\n",
       "\n",
       "    .dataframe tbody tr th {\n",
       "        vertical-align: top;\n",
       "    }\n",
       "\n",
       "    .dataframe thead th {\n",
       "        text-align: right;\n",
       "    }\n",
       "</style>\n",
       "<table border=\"1\" class=\"dataframe\">\n",
       "  <thead>\n",
       "    <tr style=\"text-align: right;\">\n",
       "      <th></th>\n",
       "      <th>Id</th>\n",
       "      <th>carat</th>\n",
       "      <th>cut</th>\n",
       "      <th>color</th>\n",
       "      <th>clarity</th>\n",
       "      <th>depth</th>\n",
       "      <th>table</th>\n",
       "      <th>price</th>\n",
       "      <th>x</th>\n",
       "      <th>y</th>\n",
       "      <th>z</th>\n",
       "      <th>vol</th>\n",
       "    </tr>\n",
       "  </thead>\n",
       "  <tbody>\n",
       "    <tr>\n",
       "      <th>0</th>\n",
       "      <td>1</td>\n",
       "      <td>0.058269</td>\n",
       "      <td>5</td>\n",
       "      <td>6</td>\n",
       "      <td>1</td>\n",
       "      <td>61.8</td>\n",
       "      <td>57.0</td>\n",
       "      <td>8.359369</td>\n",
       "      <td>6.57</td>\n",
       "      <td>6.60</td>\n",
       "      <td>4.07</td>\n",
       "      <td>176.483340</td>\n",
       "    </tr>\n",
       "    <tr>\n",
       "      <th>1</th>\n",
       "      <td>2</td>\n",
       "      <td>0.412110</td>\n",
       "      <td>4</td>\n",
       "      <td>4</td>\n",
       "      <td>5</td>\n",
       "      <td>60.9</td>\n",
       "      <td>58.0</td>\n",
       "      <td>9.626679</td>\n",
       "      <td>7.38</td>\n",
       "      <td>7.42</td>\n",
       "      <td>4.51</td>\n",
       "      <td>246.965796</td>\n",
       "    </tr>\n",
       "    <tr>\n",
       "      <th>2</th>\n",
       "      <td>3</td>\n",
       "      <td>-1.139434</td>\n",
       "      <td>5</td>\n",
       "      <td>3</td>\n",
       "      <td>4</td>\n",
       "      <td>61.3</td>\n",
       "      <td>56.0</td>\n",
       "      <td>6.719013</td>\n",
       "      <td>4.43</td>\n",
       "      <td>4.41</td>\n",
       "      <td>2.71</td>\n",
       "      <td>52.943373</td>\n",
       "    </tr>\n",
       "    <tr>\n",
       "      <th>3</th>\n",
       "      <td>4</td>\n",
       "      <td>-0.634878</td>\n",
       "      <td>5</td>\n",
       "      <td>4</td>\n",
       "      <td>4</td>\n",
       "      <td>61.2</td>\n",
       "      <td>56.0</td>\n",
       "      <td>7.363280</td>\n",
       "      <td>5.19</td>\n",
       "      <td>5.22</td>\n",
       "      <td>3.19</td>\n",
       "      <td>86.422842</td>\n",
       "    </tr>\n",
       "    <tr>\n",
       "      <th>4</th>\n",
       "      <td>5</td>\n",
       "      <td>-0.356675</td>\n",
       "      <td>4</td>\n",
       "      <td>5</td>\n",
       "      <td>5</td>\n",
       "      <td>61.0</td>\n",
       "      <td>57.0</td>\n",
       "      <td>7.861727</td>\n",
       "      <td>5.76</td>\n",
       "      <td>5.72</td>\n",
       "      <td>3.50</td>\n",
       "      <td>115.315200</td>\n",
       "    </tr>\n",
       "  </tbody>\n",
       "</table>\n",
       "</div>"
      ],
      "text/plain": [
       "   Id     carat  cut  color  clarity  depth  table     price     x     y  \\\n",
       "0   1  0.058269    5      6        1   61.8   57.0  8.359369  6.57  6.60   \n",
       "1   2  0.412110    4      4        5   60.9   58.0  9.626679  7.38  7.42   \n",
       "2   3 -1.139434    5      3        4   61.3   56.0  6.719013  4.43  4.41   \n",
       "3   4 -0.634878    5      4        4   61.2   56.0  7.363280  5.19  5.22   \n",
       "4   5 -0.356675    4      5        5   61.0   57.0  7.861727  5.76  5.72   \n",
       "\n",
       "      z         vol  \n",
       "0  4.07  176.483340  \n",
       "1  4.51  246.965796  \n",
       "2  2.71   52.943373  \n",
       "3  3.19   86.422842  \n",
       "4  3.50  115.315200  "
      ]
     },
     "execution_count": 40,
     "metadata": {},
     "output_type": "execute_result"
    }
   ],
   "source": [
    "train['vol'] = train['x'] * train['y'] * train['z']\n",
    "train.head()"
   ]
  },
  {
   "cell_type": "code",
   "execution_count": 41,
   "id": "7681763e",
   "metadata": {},
   "outputs": [
    {
     "data": {
      "text/html": [
       "<div>\n",
       "<style scoped>\n",
       "    .dataframe tbody tr th:only-of-type {\n",
       "        vertical-align: middle;\n",
       "    }\n",
       "\n",
       "    .dataframe tbody tr th {\n",
       "        vertical-align: top;\n",
       "    }\n",
       "\n",
       "    .dataframe thead th {\n",
       "        text-align: right;\n",
       "    }\n",
       "</style>\n",
       "<table border=\"1\" class=\"dataframe\">\n",
       "  <thead>\n",
       "    <tr style=\"text-align: right;\">\n",
       "      <th></th>\n",
       "      <th>Id</th>\n",
       "      <th>carat</th>\n",
       "      <th>cut</th>\n",
       "      <th>color</th>\n",
       "      <th>clarity</th>\n",
       "      <th>depth</th>\n",
       "      <th>table</th>\n",
       "      <th>price</th>\n",
       "      <th>vol</th>\n",
       "    </tr>\n",
       "  </thead>\n",
       "  <tbody>\n",
       "    <tr>\n",
       "      <th>0</th>\n",
       "      <td>1</td>\n",
       "      <td>0.058269</td>\n",
       "      <td>5</td>\n",
       "      <td>6</td>\n",
       "      <td>1</td>\n",
       "      <td>61.8</td>\n",
       "      <td>57.0</td>\n",
       "      <td>8.359369</td>\n",
       "      <td>176.483340</td>\n",
       "    </tr>\n",
       "    <tr>\n",
       "      <th>1</th>\n",
       "      <td>2</td>\n",
       "      <td>0.412110</td>\n",
       "      <td>4</td>\n",
       "      <td>4</td>\n",
       "      <td>5</td>\n",
       "      <td>60.9</td>\n",
       "      <td>58.0</td>\n",
       "      <td>9.626679</td>\n",
       "      <td>246.965796</td>\n",
       "    </tr>\n",
       "    <tr>\n",
       "      <th>2</th>\n",
       "      <td>3</td>\n",
       "      <td>-1.139434</td>\n",
       "      <td>5</td>\n",
       "      <td>3</td>\n",
       "      <td>4</td>\n",
       "      <td>61.3</td>\n",
       "      <td>56.0</td>\n",
       "      <td>6.719013</td>\n",
       "      <td>52.943373</td>\n",
       "    </tr>\n",
       "    <tr>\n",
       "      <th>3</th>\n",
       "      <td>4</td>\n",
       "      <td>-0.634878</td>\n",
       "      <td>5</td>\n",
       "      <td>4</td>\n",
       "      <td>4</td>\n",
       "      <td>61.2</td>\n",
       "      <td>56.0</td>\n",
       "      <td>7.363280</td>\n",
       "      <td>86.422842</td>\n",
       "    </tr>\n",
       "    <tr>\n",
       "      <th>4</th>\n",
       "      <td>5</td>\n",
       "      <td>-0.356675</td>\n",
       "      <td>4</td>\n",
       "      <td>5</td>\n",
       "      <td>5</td>\n",
       "      <td>61.0</td>\n",
       "      <td>57.0</td>\n",
       "      <td>7.861727</td>\n",
       "      <td>115.315200</td>\n",
       "    </tr>\n",
       "  </tbody>\n",
       "</table>\n",
       "</div>"
      ],
      "text/plain": [
       "   Id     carat  cut  color  clarity  depth  table     price         vol\n",
       "0   1  0.058269    5      6        1   61.8   57.0  8.359369  176.483340\n",
       "1   2  0.412110    4      4        5   60.9   58.0  9.626679  246.965796\n",
       "2   3 -1.139434    5      3        4   61.3   56.0  6.719013   52.943373\n",
       "3   4 -0.634878    5      4        4   61.2   56.0  7.363280   86.422842\n",
       "4   5 -0.356675    4      5        5   61.0   57.0  7.861727  115.315200"
      ]
     },
     "execution_count": 41,
     "metadata": {},
     "output_type": "execute_result"
    }
   ],
   "source": [
    "train.drop(['x','y','z'], axis=1, inplace=True)\n",
    "train.head()"
   ]
  },
  {
   "cell_type": "code",
   "execution_count": 42,
   "id": "0c6dbbbd",
   "metadata": {},
   "outputs": [
    {
     "data": {
      "text/plain": [
       "<AxesSubplot:>"
      ]
     },
     "execution_count": 42,
     "metadata": {},
     "output_type": "execute_result"
    },
    {
     "data": {
      "image/png": "[encoded data removed]",
      "text/plain": [
       "<Figure size 864x864 with 2 Axes>"
      ]
     },
     "metadata": {
      "needs_background": "light"
     },
     "output_type": "display_data"
    }
   ],
   "source": [
    "#correlation matrix\n",
    "cmap = sns.diverging_palette(70,20,s=50, l=40, n=6,as_cmap=True)\n",
    "corrmat= train.corr()\n",
    "f, ax = plt.subplots(figsize=(12,12))\n",
    "sns.heatmap(corrmat,cmap=cmap,annot=True, )"
   ]
  },
  {
   "cell_type": "markdown",
   "id": "a7d4dcca",
   "metadata": {},
   "source": [
    "There is strong positive relationship between caratand and price, vol and price, vol and carat"
   ]
  },
  {
   "cell_type": "markdown",
   "id": "6b37c5e9",
   "metadata": {},
   "source": [
    "# Model Building"
   ]
  },
  {
   "cell_type": "code",
   "execution_count": 43,
   "id": "fab05a53",
   "metadata": {},
   "outputs": [],
   "source": [
    "X=train.drop('price',axis=1)\n",
    "y=train['price']"
   ]
  },
  {
   "cell_type": "code",
   "execution_count": 44,
   "id": "859c6461",
   "metadata": {},
   "outputs": [],
   "source": [
    "from sklearn.model_selection import train_test_split\n",
    "X_train, X_test, y_train, y_test = train_test_split(X, y,test_size=0.25, random_state=7)"
   ]
  },
  {
   "cell_type": "code",
   "execution_count": 45,
   "id": "dbd19a6e",
   "metadata": {},
   "outputs": [
    {
     "ename": "NameError",
     "evalue": "name 'pipeline_lr' is not defined",
     "output_type": "error",
     "traceback": [
      "\u001b[1;31m---------------------------------------------------------------------------\u001b[0m",
      "\u001b[1;31mNameError\u001b[0m                                 Traceback (most recent call last)",
      "\u001b[1;32m~\\AppData\\Local\\Temp/ipykernel_10084/3273524192.py\u001b[0m in \u001b[0;36m<module>\u001b[1;34m\u001b[0m\n\u001b[1;32m----> 1\u001b[1;33m \u001b[0mpred\u001b[0m \u001b[1;33m=\u001b[0m \u001b[0mpipeline_lr\u001b[0m\u001b[1;33m.\u001b[0m\u001b[0mpredict\u001b[0m\u001b[1;33m(\u001b[0m\u001b[0mX_test\u001b[0m\u001b[1;33m)\u001b[0m\u001b[1;33m\u001b[0m\u001b[1;33m\u001b[0m\u001b[0m\n\u001b[0m\u001b[0;32m      2\u001b[0m \u001b[1;33m\u001b[0m\u001b[0m\n\u001b[0;32m      3\u001b[0m \u001b[0mprint\u001b[0m\u001b[1;33m(\u001b[0m\u001b[0mtype\u001b[0m \u001b[1;33m(\u001b[0m\u001b[0mpred\u001b[0m\u001b[1;33m)\u001b[0m\u001b[1;33m)\u001b[0m\u001b[1;33m\u001b[0m\u001b[1;33m\u001b[0m\u001b[0m\n\u001b[0;32m      4\u001b[0m \u001b[0mprint\u001b[0m\u001b[1;33m(\u001b[0m\u001b[0mlen\u001b[0m\u001b[1;33m(\u001b[0m\u001b[0mpred\u001b[0m\u001b[1;33m)\u001b[0m\u001b[1;33m)\u001b[0m\u001b[1;33m\u001b[0m\u001b[1;33m\u001b[0m\u001b[0m\n",
      "\u001b[1;31mNameError\u001b[0m: name 'pipeline_lr' is not defined"
     ]
    }
   ],
   "source": [
    "pred = pipeline_lr.predict(X_test)\n",
    "\n",
    "print(type (pred))\n",
    "print(len(pred))"
   ]
  },
  {
   "cell_type": "code",
   "execution_count": null,
   "id": "6bb47e25",
   "metadata": {},
   "outputs": [],
   "source": [
    "# Linear Regression\n",
    "linear_regressor=LinearRegression()\n",
    "pipe=Pipeline([\n",
    "    (\"scalar1\",StandardScaler()),\n",
    "    (\"linear_regressor\",linear_regressor)\n",
    "])\n",
    "pipe.fit(X_train,y_train)\n",
    "y_pred=pipe.predict(X_test)\n",
    "\n",
    "print('R squared of the Linear Regression is: {:.2%}'.format(pipe.score(X_train, y_train)))\n",
    "print('mean_squared_error of the Linear Regression is:',(np.sqrt(mean_squared_error(y_test, y_pred))))"
   ]
  },
  {
   "cell_type": "code",
   "execution_count": null,
   "id": "945cce33",
   "metadata": {},
   "outputs": [],
   "source": [
    "# Decision Tree\n",
    "dt=DecisionTreeRegressor(max_depth=8)\n",
    "pipe=Pipeline([\n",
    "    (\"scalar1\",StandardScaler()),\n",
    "    (\"Decision Tree\",dt)\n",
    "])\n",
    "pipe.fit(X_train,y_train)\n",
    "y_pred=pipe.predict(X_test)\n",
    "\n",
    "print('R squared of the Linear Regression is: {:.2%}'.format(pipe.score(X_train, y_train)))\n",
    "print('mean_squared_error of the dt is: ',(np.sqrt(mean_squared_error(y_test, y_pred))))"
   ]
  },
  {
   "cell_type": "code",
   "execution_count": 47,
   "id": "3f729da6",
   "metadata": {},
   "outputs": [
    {
     "name": "stdout",
     "output_type": "stream",
     "text": [
      "R squared of the Linear Regression is: 94.29%\n",
      "mean_squared_error of the AdaBoost is:  0.24206559101270855\n"
     ]
    }
   ],
   "source": [
    "# AdaBoostRegressor\n",
    "AdaBoost= AdaBoostRegressor(n_estimators=15,learning_rate=1.0)\n",
    "pipe=Pipeline([\n",
    "    (\"scalar1\",StandardScaler()),\n",
    "    (\"AdaBoost\",AdaBoost)\n",
    "])\n",
    "pipe.fit(X_train,y_train)\n",
    "y_pred=pipe.predict(X_test)\n",
    "\n",
    "print('R squared of the Linear Regression is: {:.2%}'.format(pipe.score(X_train, y_train)))\n",
    "print('mean_squared_error of the AdaBoost is: ',(np.sqrt(mean_squared_error(y_test, y_pred))))"
   ]
  },
  {
   "cell_type": "code",
   "execution_count": null,
   "id": "ca9febaa",
   "metadata": {},
   "outputs": [],
   "source": [
    "# Gradient_Boost\n",
    "Gradient_Boost=GradientBoostingRegressor(n_estimators=500)\n",
    "pipe=Pipeline([\n",
    "    (\"scalar1\",StandardScaler()),\n",
    "    (\"Gradient_Boost\",Gradient_Boost)\n",
    "])\n",
    "pipe.fit(X_train,y_train)\n",
    "y_pred=pipe.predict(X_test)\n",
    "\n",
    "print('R squared of the Linear Regression is: {:.2%}'.format(pipe.score(X_train, y_train)))\n",
    "print('mean_squared_error of the Gradient_Boost is: ',(np.sqrt(mean_squared_error(y_test, y_pred))))"
   ]
  },
  {
   "cell_type": "code",
   "execution_count": null,
   "id": "abd92ef5",
   "metadata": {},
   "outputs": [],
   "source": [
    "#xgboost\n",
    "xgboost=XGBRegressor(n_estimators=45,max_depth=5,learning_rate=0.5)\n",
    "pipe=Pipeline([\n",
    "    (\"scalar1\",StandardScaler()),\n",
    "    (\"xgboost\",xgboost)\n",
    "])\n",
    "pipe.fit(X_train,y_train)\n",
    "y_pred=pipe.predict(X_test)\n",
    "\n",
    "print('R squared of the Linear Regression is: {:.2%}'.format(pipe.score(X_train, y_train)))\n",
    "print('mean_squared_error of the xgboost is: ',(np.sqrt(mean_squared_error(y_test, y_pred))))"
   ]
  },
  {
   "cell_type": "code",
   "execution_count": null,
   "id": "ce45ef0d",
   "metadata": {},
   "outputs": [],
   "source": [
    "# RandomForestRegressor\n",
    "Random_Forest=RandomForestRegressor(n_estimators=350,\n",
    "                                    random_state=3,\n",
    "                                    max_samples=0.5,\n",
    "                                    max_features=0.75,\n",
    "                                    max_depth=15)\n",
    "pipe=Pipeline([\n",
    "    (\"scalar1\",StandardScaler()),\n",
    "    (\"Random_Forest\",Random_Forest)\n",
    "])\n",
    "pipe.fit(X_train,y_train)\n",
    "y_pred=pipe.predict(X_test)\n",
    "\n",
    "print('R squared of the Linear Regression is: {:.2%}'.format(pipe.score(X_train, y_train)))\n",
    "print('mean_squared_error of the Random_Forest is: ',(np.sqrt(mean_squared_error(y_test, y_pred))))"
   ]
  },
  {
   "cell_type": "code",
   "execution_count": null,
   "id": "2f6778c5",
   "metadata": {},
   "outputs": [],
   "source": [
    "# KNeighbors\n",
    "KNN=KNeighborsRegressor(n_neighbors=30)\n",
    "pipe=Pipeline([\n",
    "    (\"scalar1\",StandardScaler()),\n",
    "    (\"KNN\",KNN)\n",
    "])\n",
    "pipe.fit(X_train,y_train)\n",
    "y_pred=pipe.predict(X_test)\n",
    "\n",
    "print('R squared of the Linear Regression is: {:.2%}'.format(pipe.score(X_train, y_train)))\n",
    "print('mean_squared_error of the KNN is:' , (np.sqrt(mean_squared_error(y_test, y_pred))))"
   ]
  },
  {
   "cell_type": "code",
   "execution_count": null,
   "id": "2a194d44",
   "metadata": {},
   "outputs": [],
   "source": [
    "# ExtraTrees\n",
    "ExtraTrees=ExtraTreesRegressor(n_estimators=100,\n",
    "                              random_state=3,\n",
    "                              max_samples=0.5,\n",
    "                              max_features=0.75,\n",
    "                              max_depth=15)\n",
    "pipe=Pipeline([\n",
    "    (\"scalar1\",StandardScaler()),\n",
    "    (\"ExtraTrees\",ExtraTrees)\n",
    "])\n",
    "pipe.fit(X_train,y_train)\n",
    "y_pred=pipe.predict(X_test)\n",
    "\n",
    "print('R squared of the Linear Regression is: {:.2%}'.format(pipe.score(X_train, y_train)))\n",
    "print('mean_squared_error of the ExtraTree is:',(np.sqrt(mean_squared_error(y_test, y_pred))))"
   ]
  },
  {
   "cell_type": "code",
   "execution_count": 48,
   "id": "6253e025",
   "metadata": {},
   "outputs": [
    {
     "name": "stdout",
     "output_type": "stream",
     "text": [
      "R2 score 0.94333144951993\n",
      "MAE 0.05859575035233189\n"
     ]
    }
   ],
   "source": [
    "from sklearn.ensemble import VotingRegressor\n",
    "step1 = StandardScaler()\n",
    "\n",
    "\n",
    "lr=LinearRegression()\n",
    "dt=DecisionTreeRegressor(max_depth=8)\n",
    "AdaBoost= AdaBoostRegressor(n_estimators=15,learning_rate=1.0)\n",
    "Gradient_Boost=GradientBoostingRegressor(n_estimators=500)\n",
    "xgboost=XGBRegressor(n_estimators=45,max_depth=5,learning_rate=0.5)\n",
    "Random_Forest=RandomForestRegressor(n_estimators=350,\n",
    "                                    random_state=3,\n",
    "                                    max_samples=0.5,\n",
    "                                    max_features=0.75,\n",
    "                                    max_depth=15)\n",
    "KNN=KNeighborsRegressor(n_neighbors=30)\n",
    "ExtraTrees=ExtraTreesRegressor(n_estimators=100,\n",
    "                              random_state=3,\n",
    "                              max_samples=0.5,\n",
    "                              max_features=0.75,\n",
    "                              max_depth=15)\n",
    "\n",
    "\n",
    "\n",
    "\n",
    "voting = VotingRegressor([('lr', lr), ('dt', dt),(\"AdaBoost\",AdaBoost) ,('Gradient_Boost',Gradient_Boost), ('xgboost',xgboost),(\"Random_Forest\",Random_Forest),(\"KNN\",KNN),(\"ExtraTrees\",ExtraTrees)],weights=[5,5,1,1,1,1,1,1])\n",
    "\n",
    "step2=voting\n",
    "pipe = Pipeline([\n",
    "    ('step1',step1),\n",
    "    ('step2',step2)\n",
    "])\n",
    "\n",
    "voting.fit(X_train,y_train)\n",
    "\n",
    "pred = voting.predict(X_test)\n",
    "print('R2 score',r2_score(y_test,y_pred))\n",
    "print('MAE',mean_squared_error(y_test, y_pred))"
   ]
  },
  {
   "cell_type": "markdown",
   "id": "3de00f2d",
   "metadata": {},
   "source": [
    "# Exporting The Model"
   ]
  },
  {
   "cell_type": "code",
   "execution_count": null,
   "id": "cea9452f",
   "metadata": {},
   "outputs": [],
   "source": [
    "train.drop(['cut','color','clarity'],axis=1,inplace=True)\n",
    "test.drop(['cut','color','clarity'],axis=1,inplace=True)"
   ]
  },
  {
   "cell_type": "code",
   "execution_count": null,
   "id": "0e201c40",
   "metadata": {},
   "outputs": [],
   "source": [
    "pred =voting.predict(test.drop('Id',axis=1))\n",
    "data={'Id': Id, 'price':pred }\n",
    "sub = pd.DataFrame(data=data)"
   ]
  },
  {
   "cell_type": "code",
   "execution_count": null,
   "id": "7561d00c",
   "metadata": {},
   "outputs": [],
   "source": [
    "sub.to_csv('sub.csv',index=False)"
   ]
  },
  {
   "cell_type": "code",
   "execution_count": null,
   "id": "a038ec0f",
   "metadata": {},
   "outputs": [],
   "source": [
    "train.drop(['cut','color','clarity'],axis=1,inplace=True)\n",
    "test.drop(['cut','color','clarity'],axis=1,inplace=True)"
   ]
  }
 ],
 "metadata": {
  "celltoolbar": "Slideshow",
  "kernelspec": {
   "display_name": "Python 3 (ipykernel)",
   "language": "python",
   "name": "python3"
  },
  "language_info": {
   "codemirror_mode": {
    "name": "ipython",
    "version": 3
   },
   "file_extension": ".py",
   "mimetype": "text/x-python",
   "name": "python",
   "nbconvert_exporter": "python",
   "pygments_lexer": "ipython3",
   "version": "3.9.7"
  }
 },
 "nbformat": 4,
 "nbformat_minor": 5
}
